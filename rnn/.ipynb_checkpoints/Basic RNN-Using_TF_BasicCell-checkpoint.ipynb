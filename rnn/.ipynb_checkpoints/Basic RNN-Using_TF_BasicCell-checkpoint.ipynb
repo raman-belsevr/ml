{
 "cells": [
  {
   "cell_type": "code",
   "execution_count": 1,
   "metadata": {
    "collapsed": true
   },
   "outputs": [],
   "source": [
    "import tensorflow as tf;\n"
   ]
  },
  {
   "cell_type": "code",
   "execution_count": 2,
   "metadata": {
    "collapsed": true
   },
   "outputs": [],
   "source": [
    "n_inputs = 3 # dimensionality of input vector\n",
    "n_nuerons= 5 # dimensionality of hidden state\n",
    "\n",
    "X0 = tf.placeholder(tf.float32, [None, n_inputs])\n",
    "X1 = tf.placeholder(tf.float32, [None, n_inputs])\n",
    "\n",
    "Wx = tf.Variable(tf.random_normal(shape = [n_inputs, n_nuerons], dtype = tf.float32))\n",
    "Wy = tf.Variable(tf.random_normal(shape = [n_nuerons, n_nuerons], dtype = tf.float32))\n",
    "b = tf.Variable(tf.zeros([1, n_nuerons], dtype = tf.float32))\n",
    "\n",
    "Y0 = tf.tanh(tf.matmul(X0, Wx) + b)\n",
    "Y1 = tf.tanh(tf.matmul(Y0, Wy) + tf.matmul(X1, Wx)  + b)\n",
    "init = tf.global_variables_initializer()"
   ]
  },
  {
   "cell_type": "code",
   "execution_count": 3,
   "metadata": {
    "collapsed": true
   },
   "outputs": [],
   "source": [
    "import numpy as np;\n",
    "X0_batch = np.array([[0,1,2], [3,4,5], [6,7,8], [9,0,1]]) #t = 0\n",
    "X1_batch = np.array([[9,8,7], [0,0,0], [6,5,4], [3,2,1]]) #t = 1"
   ]
  },
  {
   "cell_type": "code",
   "execution_count": 19,
   "metadata": {},
   "outputs": [
    {
     "name": "stdout",
     "output_type": "stream",
     "text": [
      "[[ 0.19461338 -0.95396852  0.12446936  0.99878502  0.38985723]\n",
      " [-0.99963993 -1.          0.95022404  1.          0.89969385]\n",
      " [-1.         -1.          0.99832803  1.          0.9873786 ]\n",
      " [-1.         -1.         -0.24208027  0.98876184  0.99999493]]\n",
      "[[-1.         -1.          0.99978721  1.         -0.42933193]\n",
      " [ 0.41476288  0.60577017  0.69744223 -0.68641794 -0.9999975 ]\n",
      " [-0.99999994 -1.          0.99948823  1.         -0.99995178]\n",
      " [-0.93609482 -0.99999803  0.89300013  0.99966496 -0.99937588]]\n"
     ]
    }
   ],
   "source": [
    "with tf.Session() as session:\n",
    "    init.run()\n",
    "    Y0_val, Y1_val = session.run([Y0, Y1], feed_dict = {X0: X0_batch, X1: X1_batch})\n",
    "    \n",
    "print(Y0_val)\n",
    "print(Y1_val)"
   ]
  }
 ],
 "metadata": {
  "kernelspec": {
   "display_name": "Python 3",
   "language": "python",
   "name": "python3"
  },
  "language_info": {
   "codemirror_mode": {
    "name": "ipython",
    "version": 3
   },
   "file_extension": ".py",
   "mimetype": "text/x-python",
   "name": "python",
   "nbconvert_exporter": "python",
   "pygments_lexer": "ipython3",
   "version": "3.5.2"
  },
  "widgets": {
   "state": {},
   "version": "1.1.2"
  }
 },
 "nbformat": 4,
 "nbformat_minor": 2
}
